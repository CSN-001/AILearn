{
 "cells": [
  {
   "cell_type": "code",
   "execution_count": 2,
   "metadata": {},
   "outputs": [],
   "source": [
    "import pandas as pd\n",
    "import numpy as np\n",
    "import matplotlib.pyplot as plt\n",
    "%matplotlib inline"
   ]
  },
  {
   "cell_type": "code",
   "execution_count": 3,
   "metadata": {},
   "outputs": [
    {
     "data": {
      "text/html": [
       "<div>\n",
       "<style scoped>\n",
       "    .dataframe tbody tr th:only-of-type {\n",
       "        vertical-align: middle;\n",
       "    }\n",
       "\n",
       "    .dataframe tbody tr th {\n",
       "        vertical-align: top;\n",
       "    }\n",
       "\n",
       "    .dataframe thead th {\n",
       "        text-align: right;\n",
       "    }\n",
       "</style>\n",
       "<table border=\"1\" class=\"dataframe\">\n",
       "  <thead>\n",
       "    <tr style=\"text-align: right;\">\n",
       "      <th></th>\n",
       "      <th>exam1</th>\n",
       "      <th>exam2</th>\n",
       "      <th>admitted</th>\n",
       "    </tr>\n",
       "  </thead>\n",
       "  <tbody>\n",
       "    <tr>\n",
       "      <th>0</th>\n",
       "      <td>34.623660</td>\n",
       "      <td>78.024693</td>\n",
       "      <td>0</td>\n",
       "    </tr>\n",
       "    <tr>\n",
       "      <th>1</th>\n",
       "      <td>30.286711</td>\n",
       "      <td>43.894998</td>\n",
       "      <td>0</td>\n",
       "    </tr>\n",
       "    <tr>\n",
       "      <th>2</th>\n",
       "      <td>35.847409</td>\n",
       "      <td>72.902198</td>\n",
       "      <td>0</td>\n",
       "    </tr>\n",
       "    <tr>\n",
       "      <th>3</th>\n",
       "      <td>60.182599</td>\n",
       "      <td>86.308552</td>\n",
       "      <td>1</td>\n",
       "    </tr>\n",
       "    <tr>\n",
       "      <th>4</th>\n",
       "      <td>79.032736</td>\n",
       "      <td>75.344376</td>\n",
       "      <td>1</td>\n",
       "    </tr>\n",
       "    <tr>\n",
       "      <th>5</th>\n",
       "      <td>45.083277</td>\n",
       "      <td>56.316372</td>\n",
       "      <td>0</td>\n",
       "    </tr>\n",
       "    <tr>\n",
       "      <th>6</th>\n",
       "      <td>61.106665</td>\n",
       "      <td>96.511426</td>\n",
       "      <td>1</td>\n",
       "    </tr>\n",
       "    <tr>\n",
       "      <th>7</th>\n",
       "      <td>75.024746</td>\n",
       "      <td>46.554014</td>\n",
       "      <td>1</td>\n",
       "    </tr>\n",
       "    <tr>\n",
       "      <th>8</th>\n",
       "      <td>76.098787</td>\n",
       "      <td>87.420570</td>\n",
       "      <td>1</td>\n",
       "    </tr>\n",
       "    <tr>\n",
       "      <th>9</th>\n",
       "      <td>84.432820</td>\n",
       "      <td>43.533393</td>\n",
       "      <td>1</td>\n",
       "    </tr>\n",
       "  </tbody>\n",
       "</table>\n",
       "</div>"
      ],
      "text/plain": [
       "       exam1      exam2  admitted\n",
       "0  34.623660  78.024693         0\n",
       "1  30.286711  43.894998         0\n",
       "2  35.847409  72.902198         0\n",
       "3  60.182599  86.308552         1\n",
       "4  79.032736  75.344376         1\n",
       "5  45.083277  56.316372         0\n",
       "6  61.106665  96.511426         1\n",
       "7  75.024746  46.554014         1\n",
       "8  76.098787  87.420570         1\n",
       "9  84.432820  43.533393         1"
      ]
     },
     "execution_count": 3,
     "metadata": {},
     "output_type": "execute_result"
    }
   ],
   "source": [
    "import os\n",
    "df = pd.read_csv(\"LogiReg_data.csv\", header=None, names=['exam1', 'exam2', 'admitted'])\n",
    "df.head(10)"
   ]
  },
  {
   "cell_type": "code",
   "execution_count": 4,
   "metadata": {},
   "outputs": [
    {
     "data": {
      "text/plain": [
       "Text(0, 0.5, 'exam2_score')"
      ]
     },
     "execution_count": 4,
     "metadata": {},
     "output_type": "execute_result"
    },
    {
     "data": {
      "image/png": "[encoded data removed]",
      "text/plain": [
       "<Figure size 720x360 with 1 Axes>"
      ]
     },
     "metadata": {
      "needs_background": "light"
     },
     "output_type": "display_data"
    }
   ],
   "source": [
    "positive = df[df['admitted'] == 1]\n",
    "negative = df[df['admitted'] == 0]\n",
    "fig, ax = plt.subplots(figsize=(10, 5))\n",
    "ax.scatter(positive['exam1'], positive['exam2'], s=30, c='b', marker='o', label='admitted')\n",
    "ax.scatter(negative['exam1'], negative['exam2'], s=30, c='r', marker='x', label='no admitted')\n",
    "ax.legend()\n",
    "ax.set_xlabel('exam1_score')\n",
    "ax.set_ylabel('exam2_score')"
   ]
  },
  {
   "cell_type": "code",
   "execution_count": 5,
   "metadata": {},
   "outputs": [],
   "source": [
    "def sigmoid(z):\n",
    "    return 1 / (1 + np.exp(-z))"
   ]
  },
  {
   "cell_type": "code",
   "execution_count": 6,
   "metadata": {},
   "outputs": [
    {
     "data": {
      "text/plain": [
       "[<matplotlib.lines.Line2D at 0x140bd11e508>]"
      ]
     },
     "execution_count": 6,
     "metadata": {},
     "output_type": "execute_result"
    },
    {
     "data": {
      "image/png": "[encoded data removed]",
      "text/plain": [
       "<Figure size 864x288 with 1 Axes>"
      ]
     },
     "metadata": {
      "needs_background": "light"
     },
     "output_type": "display_data"
    }
   ],
   "source": [
    "num = np.arange(-10, 10, 0.5)\n",
    "fig, ax = plt.subplots(figsize=(12,4))\n",
    "ax.plot(num, sigmoid(num), 'r')"
   ]
  },
  {
   "cell_type": "code",
   "execution_count": 7,
   "metadata": {},
   "outputs": [],
   "source": [
    "def model(X, theta):\n",
    "    return sigmoid(np.dot(X, theta.T))"
   ]
  },
  {
   "cell_type": "code",
   "execution_count": 11,
   "metadata": {},
   "outputs": [
    {
     "name": "stdout",
     "output_type": "stream",
     "text": [
      "[[34.62365962 78.02469282  0.        ]\n",
      " [30.28671077 43.89499752  0.        ]\n",
      " [35.84740877 72.90219803  0.        ]\n",
      " [60.18259939 86.3085521   1.        ]\n",
      " [79.03273605 75.34437644  1.        ]\n",
      " [45.08327748 56.31637178  0.        ]\n",
      " [61.10666454 96.51142588  1.        ]\n",
      " [75.02474557 46.55401354  1.        ]\n",
      " [76.0987867  87.42056972  1.        ]\n",
      " [84.43281996 43.53339331  1.        ]\n",
      " [95.86155507 38.22527806  0.        ]\n",
      " [75.01365839 30.60326323  0.        ]\n",
      " [82.30705337 76.4819633   1.        ]\n",
      " [69.36458876 97.71869196  1.        ]\n",
      " [39.53833914 76.03681085  0.        ]\n",
      " [53.97105215 89.20735014  1.        ]\n",
      " [69.07014406 52.74046973  1.        ]\n",
      " [67.94685548 46.67857411  0.        ]\n",
      " [70.66150955 92.92713789  1.        ]\n",
      " [76.97878373 47.57596365  1.        ]\n",
      " [67.37202755 42.83843832  0.        ]\n",
      " [89.67677575 65.79936593  1.        ]\n",
      " [50.53478829 48.85581153  0.        ]\n",
      " [34.21206098 44.2095286   0.        ]\n",
      " [77.92409145 68.97235999  1.        ]\n",
      " [62.27101367 69.95445795  1.        ]\n",
      " [80.19018075 44.82162893  1.        ]\n",
      " [93.1143888  38.80067034  0.        ]\n",
      " [61.83020602 50.25610789  0.        ]\n",
      " [38.7858038  64.99568096  0.        ]\n",
      " [61.37928945 72.80788731  1.        ]\n",
      " [85.40451939 57.05198398  1.        ]\n",
      " [52.10797973 63.12762377  0.        ]\n",
      " [52.04540477 69.43286012  1.        ]\n",
      " [40.23689374 71.16774802  0.        ]\n",
      " [54.63510555 52.21388588  0.        ]\n",
      " [33.91550011 98.86943574  0.        ]\n",
      " [64.17698887 80.90806059  1.        ]\n",
      " [74.78925296 41.57341523  0.        ]\n",
      " [34.18364003 75.23772034  0.        ]\n",
      " [83.90239366 56.30804622  1.        ]\n",
      " [51.54772027 46.85629026  0.        ]\n",
      " [94.44336777 65.56892161  1.        ]\n",
      " [82.36875376 40.61825516  0.        ]\n",
      " [51.04775177 45.82270146  0.        ]\n",
      " [62.22267576 52.06099195  0.        ]\n",
      " [77.19303493 70.4582      1.        ]\n",
      " [97.77159928 86.72782233  1.        ]\n",
      " [62.0730638  96.76882412  1.        ]\n",
      " [91.5649745  88.69629255  1.        ]\n",
      " [79.94481794 74.16311935  1.        ]\n",
      " [99.27252693 60.999031    1.        ]\n",
      " [90.54671411 43.39060181  1.        ]\n",
      " [34.52451385 60.39634246  0.        ]\n",
      " [50.28649612 49.80453881  0.        ]\n",
      " [49.58667722 59.80895099  0.        ]\n",
      " [97.64563396 68.86157272  1.        ]\n",
      " [32.57720017 95.59854761  0.        ]\n",
      " [74.24869137 69.82457123  1.        ]\n",
      " [71.79646206 78.45356225  1.        ]\n",
      " [75.39561147 85.75993667  1.        ]\n",
      " [35.28611282 47.02051395  0.        ]\n",
      " [56.2538175  39.26147251  0.        ]\n",
      " [30.05882245 49.59297387  0.        ]\n",
      " [44.66826172 66.45008615  0.        ]\n",
      " [66.56089447 41.09209808  0.        ]\n",
      " [40.45755098 97.53518549  1.        ]\n",
      " [49.07256322 51.88321182  0.        ]\n",
      " [80.27957401 92.11606081  1.        ]\n",
      " [66.74671857 60.99139403  1.        ]\n",
      " [32.72283304 43.30717306  0.        ]\n",
      " [64.03932042 78.03168802  1.        ]\n",
      " [72.34649423 96.22759297  1.        ]\n",
      " [60.45788574 73.0949981   1.        ]\n",
      " [58.84095622 75.85844831  1.        ]\n",
      " [99.8278578  72.36925193  1.        ]\n",
      " [47.26426911 88.475865    1.        ]\n",
      " [50.4581598  75.80985953  1.        ]\n",
      " [60.45555629 42.50840944  0.        ]\n",
      " [82.22666158 42.71987854  0.        ]\n",
      " [88.91389642 69.8037889   1.        ]\n",
      " [94.83450672 45.6943068   1.        ]\n",
      " [67.31925747 66.58935318  1.        ]\n",
      " [57.23870632 59.51428198  1.        ]\n",
      " [80.366756   90.9601479   1.        ]\n",
      " [68.46852179 85.5943071   1.        ]\n",
      " [42.07545454 78.844786    0.        ]\n",
      " [75.47770201 90.424539    1.        ]\n",
      " [78.63542435 96.64742717  1.        ]\n",
      " [52.34800399 60.76950526  0.        ]\n",
      " [94.09433113 77.15910509  1.        ]\n",
      " [90.44855097 87.50879176  1.        ]\n",
      " [55.48216114 35.57070347  0.        ]\n",
      " [74.49269242 84.84513685  1.        ]\n",
      " [89.84580671 45.35828361  1.        ]\n",
      " [83.48916274 48.3802858   1.        ]\n",
      " [42.26170081 87.10385094  1.        ]\n",
      " [99.31500881 68.77540947  1.        ]\n",
      " [55.34001756 64.93193801  1.        ]\n",
      " [74.775893   89.5298129   1.        ]]\n"
     ]
    }
   ],
   "source": [
    "#插入一列值为1，名字为Ones\n",
    "#df.insert(0, 'Ones', 1)\n",
    "#print(df)\n",
    "origin = df.values\n",
    "print(origin)"
   ]
  },
  {
   "cell_type": "code",
   "execution_count": 1,
   "metadata": {},
   "outputs": [
    {
     "ename": "NameError",
     "evalue": "name 'df' is not defined",
     "output_type": "error",
     "traceback": [
      "\u001b[1;31m---------------------------------------------------------------------------\u001b[0m",
      "\u001b[1;31mNameError\u001b[0m                                 Traceback (most recent call last)",
      "\u001b[1;32m<ipython-input-1-be0d78cbcf9f>\u001b[0m in \u001b[0;36m<module>\u001b[1;34m\u001b[0m\n\u001b[1;32m----> 1\u001b[1;33m \u001b[0mdf\u001b[0m\u001b[1;33m.\u001b[0m\u001b[0mvalues\u001b[0m\u001b[1;33m\u001b[0m\u001b[1;33m\u001b[0m\u001b[0m\n\u001b[0m",
      "\u001b[1;31mNameError\u001b[0m: name 'df' is not defined"
     ]
    }
   ],
   "source": []
  },
  {
   "cell_type": "code",
   "execution_count": null,
   "metadata": {},
   "outputs": [],
   "source": []
  }
 ],
 "metadata": {
  "kernelspec": {
   "display_name": "Python 3",
   "language": "python",
   "name": "python3"
  },
  "language_info": {
   "codemirror_mode": {
    "name": "ipython",
    "version": 3
   },
   "file_extension": ".py",
   "mimetype": "text/x-python",
   "name": "python",
   "nbconvert_exporter": "python",
   "pygments_lexer": "ipython3",
   "version": "3.7.7"
  }
 },
 "nbformat": 4,
 "nbformat_minor": 4
}
